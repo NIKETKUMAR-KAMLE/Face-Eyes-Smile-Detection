{
 "cells": [
  {
   "cell_type": "code",
   "execution_count": null,
   "metadata": {},
   "outputs": [],
   "source": [
    "# Face, Eyes and Smile detection in an image.\n",
    "\n",
    "import cv2\n",
    "face_cascade = cv2.CascadeClassifier('haarcascade_frontalface_default.xml')\n",
    "eye_cascade = cv2.CascadeClassifier('haarcascade_eye.xml')\n",
    "smile_cascade = cv2.CascadeClassifier('haarcascade_smile.xml')\n",
    "\n",
    "\n",
    "# Reading the image and converting it to gray scale image\n",
    "\n",
    "img = cv2.imread('eminem.jpg') \n",
    "gray = cv2.cvtColor(img, cv2.COLOR_BGR2GRAY)\n",
    "\n",
    "\n",
    "# parameter 1.3 = scaling parameter\n",
    "# parameter 5 = naming parameter \n",
    "# faces below will be storing x,y coordinates of the image of the face\n",
    "\n",
    "faces = face_cascade.detectMultiScale(gray,1.3,5) \n",
    "\n",
    "# Ploting a rectangle around detected faces\n",
    "\n",
    "for (x,y,w,h) in faces:\n",
    "    img = cv2.rectangle(img,(x,y),(x+w,y+h),(255,0,0),2)\n",
    "    \n",
    "    #creating region of interest for gray face image\n",
    "    \n",
    "    roi_gray = gray[y:y+h,x:x+w]\n",
    "    \n",
    "    #creating region of interest for the colored image\n",
    "    \n",
    "    roi_color = img[y:y+h,x:x+w]\n",
    "    \n",
    "    #detecting eyes in the already detected face\n",
    "    \n",
    "    eyes = eye_cascade.detectMultiScale(roi_gray,1.2,20 )\n",
    "    \n",
    "    #Ploting rectangle over detected eyes \n",
    "    \n",
    "    for (ex,ey,ew,eh) in eyes:\n",
    "         cv2.rectangle(roi_color,(ex,ey),(ex+ew,ey+eh),(0,255,0),2)  \n",
    "            \n",
    "    #similar for smile \n",
    "    \n",
    "    smile = smile_cascade.detectMultiScale(roi_gray,1.7,20 )\n",
    "    \n",
    "    for (sx,sy,sw,sh) in smile:\n",
    "         cv2.rectangle(roi_color,(sx,sy),(sx+sw,sy+sh),(0,0,255),2)\n",
    "\n",
    "cv2.imshow('img',img)\n",
    "cv2.waitKey(0)\n",
    "cv2.destroyAllWindows()\n",
    "\n",
    "#saving the image\n",
    "status = cv2.imwrite('Detected Image.jpeg',img)  "
   ]
  },
  {
   "cell_type": "code",
   "execution_count": null,
   "metadata": {},
   "outputs": [],
   "source": []
  }
 ],
 "metadata": {
  "kernelspec": {
   "display_name": "Python 3",
   "language": "python",
   "name": "python3"
  },
  "language_info": {
   "codemirror_mode": {
    "name": "ipython",
    "version": 3
   },
   "file_extension": ".py",
   "mimetype": "text/x-python",
   "name": "python",
   "nbconvert_exporter": "python",
   "pygments_lexer": "ipython3",
   "version": "3.7.6"
  }
 },
 "nbformat": 4,
 "nbformat_minor": 4
}
